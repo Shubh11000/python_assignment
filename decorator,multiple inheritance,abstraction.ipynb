{
 "cells": [
  {
   "cell_type": "code",
   "execution_count": 1,
   "id": "32a689b3",
   "metadata": {},
   "outputs": [
    {
     "name": "stdout",
     "output_type": "stream",
     "text": [
      "Welcome to bank\n",
      "In SBI bank 5 rupees interest\n",
      "Welcome to bank\n",
      "In HDFC 7 rupees interest\n"
     ]
    }
   ],
   "source": [
    "#Example of abstract class\n",
    "\n",
    "from abc import ABC, abstractmethod\n",
    "class Bank(ABC):\n",
    "   def bank_info(self):\n",
    "       print(\"Welcome to bank\")\n",
    "   @abstractmethod\n",
    "   def interest(self):\n",
    "       \"Abstarct Method\"\n",
    "       pass\n",
    "   def offers(self):\n",
    "       print(\"Providing offers\")  \n",
    "#Sub class/ child class of abstract class\n",
    "class SBI(Bank):\n",
    "   def interest(self):\n",
    "       print(\"In SBI bank 5 rupees interest\")\n",
    "class HDFC(Bank):\n",
    "   def interest(self):\n",
    "       print(\"In HDFC 7 rupees interest\")\n",
    "  \n",
    "s= SBI()\n",
    "h=HDFC()\n",
    "s.bank_info()\n",
    "s.interest()\n",
    "h.bank_info()\n",
    "h.interest()"
   ]
  },
  {
   "cell_type": "code",
   "execution_count": 2,
   "id": "69ce8145",
   "metadata": {},
   "outputs": [
    {
     "name": "stdout",
     "output_type": "stream",
     "text": [
      "This is our family:\n",
      "Father : Mark\n",
      "Mother : Sonia\n"
     ]
    }
   ],
   "source": [
    "#Example of multiple inheritance\n",
    "\n",
    "class Family:\n",
    "    def show_family(self):\n",
    "        print(\"This is our family:\")\n",
    " \n",
    " \n",
    "# Father class inherited from Family\n",
    "class Father(Family):\n",
    "    fathername = \"\"\n",
    " \n",
    "    def show_father(self):\n",
    "        print(self.fathername)\n",
    " \n",
    " \n",
    "# Mother class inherited from Family\n",
    "class Mother(Family):\n",
    "    mothername = \"\"\n",
    " \n",
    "    def show_mother(self):\n",
    "        print(self.mothername)\n",
    " \n",
    " \n",
    "# Son class inherited from Father and Mother classes\n",
    "class Son(Father, Mother):\n",
    "    def show_parent(self):\n",
    "        print(\"Father :\", self.fathername)\n",
    "        print(\"Mother :\", self.mothername)\n",
    " \n",
    " \n",
    "s1 = Son()  # Object of Son class\n",
    "s1.fathername = \"Mark\"\n",
    "s1.mothername = \"Sonia\"\n",
    "s1.show_family()\n",
    "s1.show_parent()\n",
    " "
   ]
  },
  {
   "cell_type": "code",
   "execution_count": 3,
   "id": "aae21bec",
   "metadata": {},
   "outputs": [
    {
     "name": "stdout",
     "output_type": "stream",
     "text": [
      "400\n"
     ]
    }
   ],
   "source": [
    "# decorator example\n",
    "\n",
    "def decor1(func):\n",
    "    def inner():\n",
    "        x = func()\n",
    "        return x * x\n",
    "    return inner\n",
    " \n",
    "def decor(func):\n",
    "    def inner():\n",
    "        x = func()\n",
    "        return 2 * x\n",
    "    return inner\n",
    " \n",
    "@decor1\n",
    "@decor\n",
    "def num():\n",
    "    return 10\n",
    " \n",
    "print(num())"
   ]
  },
  {
   "cell_type": "code",
   "execution_count": null,
   "id": "e1f122b4",
   "metadata": {},
   "outputs": [],
   "source": []
  }
 ],
 "metadata": {
  "kernelspec": {
   "display_name": "Python 3 (ipykernel)",
   "language": "python",
   "name": "python3"
  },
  "language_info": {
   "codemirror_mode": {
    "name": "ipython",
    "version": 3
   },
   "file_extension": ".py",
   "mimetype": "text/x-python",
   "name": "python",
   "nbconvert_exporter": "python",
   "pygments_lexer": "ipython3",
   "version": "3.9.12"
  }
 },
 "nbformat": 4,
 "nbformat_minor": 5
}
