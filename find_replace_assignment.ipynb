{
 "cells": [
  {
   "cell_type": "code",
   "execution_count": 2,
   "id": "eaa55477",
   "metadata": {},
   "outputs": [
    {
     "name": "stdout",
     "output_type": "stream",
     "text": [
      "Text replaced\n"
     ]
    }
   ],
   "source": [
    "\n",
    "from pathlib2 import Path\n",
    "\n",
    "f = open(\"example.txt\", \"w+\")\n",
    "f.write(\"This is a placement assignment\")\n",
    "\n",
    "# Creating a function to\n",
    "# replace the text\n",
    "def replacetext(search_text, replace_text):\n",
    "    \n",
    "    \n",
    "  \n",
    "  \n",
    "    # Opening the file using the Path function\n",
    "    file = Path(r\"example.txt\")\n",
    "  \n",
    "    # Reading and storing the content of the file in\n",
    "    # a data variable\n",
    "    data = file.read_text()\n",
    "  \n",
    "    # Replacing the text using the replace function\n",
    "    data = data.replace(search_text, replace_text)\n",
    "  \n",
    "    # Writing the replaced data\n",
    "    # in the text file\n",
    "    file.write_text(data)\n",
    "  \n",
    "    # Return \"Text replaced\" string\n",
    "    return \"Text replaced\"\n",
    "  \n",
    "  \n",
    "\n",
    "# the text that we want to search\n",
    "search_text = \"placement\"\n",
    "  \n",
    "\n",
    "# the text that we want to update\n",
    "replace_text = \"screening\"\n",
    "\n",
    "print(replacetext(\"placement\",\"screening\"))"
   ]
  },
  {
   "cell_type": "code",
   "execution_count": null,
   "id": "5b4d2df1",
   "metadata": {},
   "outputs": [],
   "source": []
  },
  {
   "cell_type": "code",
   "execution_count": null,
   "id": "944debf1",
   "metadata": {},
   "outputs": [],
   "source": []
  },
  {
   "cell_type": "code",
   "execution_count": null,
   "id": "2a9e474c",
   "metadata": {},
   "outputs": [],
   "source": []
  }
 ],
 "metadata": {
  "kernelspec": {
   "display_name": "Python 3 (ipykernel)",
   "language": "python",
   "name": "python3"
  },
  "language_info": {
   "codemirror_mode": {
    "name": "ipython",
    "version": 3
   },
   "file_extension": ".py",
   "mimetype": "text/x-python",
   "name": "python",
   "nbconvert_exporter": "python",
   "pygments_lexer": "ipython3",
   "version": "3.9.12"
  }
 },
 "nbformat": 4,
 "nbformat_minor": 5
}
